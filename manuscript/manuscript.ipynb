{
 "cells": [
  {
   "cell_type": "code",
   "execution_count": null,
   "metadata": {},
   "outputs": [],
   "source": []
  },
  {
   "cell_type": "markdown",
   "metadata": {},
   "source": [
    "# PhyscraperViz: A Python module for visualizing phylogenetic comparisons\n",
    "\n",
    "Authors:\n",
    "\n",
    "Luna L. Sánchez-Reyes\n",
    "\n",
    "Lucia Baza-Williamson\n",
    "\n",
    "Randy Posada\n",
    "\n",
    "Kiana Beheshtian\n",
    "\n",
    "Emily Jane McTavish\n",
    "\n",
    "\n",
    "## Introduction\n",
    "\n",
    "Phylogenies are important for science because they provide an evolutionary context for testing biological hypotheses.\n",
    "Phylogenies are themselves hypotheses of evolutionary relationships among a given group of organisms. The scientific standard is to use the \"best\" phylogenetic hypothesis, which is usually determined by statistical support. Sometimes, several phylgenetic hypotheses are statistically incomparable, and researchers rely on other measures to choose the best one for their research.\n",
    "Here, we present PhyscraperViz, a Python module that streamlines comparison of two phylogenies, and summarizes textually and visually differences between the phylogenies in terms of sampling, tree height and topology.\n",
    "Sampling: both as number of tips and reciprocal presence/absence of samples. \n",
    "Tree height: distribution of branch lengths.\n",
    "Topology: Robinson-Foulds, OpenTree conflict vs synthetic tree and taxonomic tree, summary of OpenTree conflict.\n",
    "\n"
   ]
  },
  {
   "cell_type": "markdown",
   "metadata": {},
   "source": [
    "## Description"
   ]
  },
  {
   "cell_type": "markdown",
   "metadata": {},
   "source": [
    "## Example"
   ]
  },
  {
   "cell_type": "markdown",
   "metadata": {},
   "source": [
    "## Discussion"
   ]
  },
  {
   "cell_type": "markdown",
   "metadata": {},
   "source": [
    "## Conclusion"
   ]
  },
  {
   "cell_type": "markdown",
   "metadata": {},
   "source": [
    "## References"
   ]
  },
  {
   "cell_type": "code",
   "execution_count": null,
   "metadata": {},
   "outputs": [],
   "source": []
  }
 ],
 "metadata": {
  "kernelspec": {
   "display_name": "opentree",
   "language": "python",
   "name": "opentree"
  },
  "language_info": {
   "codemirror_mode": {
    "name": "ipython",
    "version": 3
   },
   "file_extension": ".py",
   "mimetype": "text/x-python",
   "name": "python",
   "nbconvert_exporter": "python",
   "pygments_lexer": "ipython3",
   "version": "3.7.3"
  }
 },
 "nbformat": 4,
 "nbformat_minor": 2
}
