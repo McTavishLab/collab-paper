{
 "cells": [
  {
   "cell_type": "code",
   "execution_count": 1,
   "id": "f00a2dc5",
   "metadata": {},
   "outputs": [],
   "source": [
    "from Bio import Phylo"
   ]
  },
  {
   "cell_type": "code",
   "execution_count": 2,
   "id": "52770be3",
   "metadata": {},
   "outputs": [],
   "source": [
    "#read the output tree "
   ]
  },
  {
   "cell_type": "code",
   "execution_count": 15,
   "id": "7dc2dc1f",
   "metadata": {},
   "outputs": [
    {
     "data": {
      "text/plain": [
       "Tree(rooted=False, weight=1.0)"
      ]
     },
     "execution_count": 15,
     "metadata": {},
     "output_type": "execute_result"
    }
   ],
   "source": [
    "Phylo.read(\"../linked_dir/kianabehesht17-podarcis-2022-02-16/outputs_pg_2145tree5952/labelled_pg_2145tree5952.tre\",\"newick\")"
   ]
  },
  {
   "cell_type": "code",
   "execution_count": 4,
   "id": "ac9ef9d1",
   "metadata": {},
   "outputs": [
    {
     "name": "stdout",
     "output_type": "stream",
     "text": [
      "challenge.ipynb\r\n"
     ]
    }
   ],
   "source": [
    "!ls"
   ]
  },
  {
   "cell_type": "code",
   "execution_count": 5,
   "id": "f1441bf6",
   "metadata": {},
   "outputs": [
    {
     "name": "stdout",
     "output_type": "stream",
     "text": [
      "/home/kbeheshtian/collab-paper/jupyter-notebooks\r\n"
     ]
    }
   ],
   "source": [
    "!pwd"
   ]
  },
  {
   "cell_type": "code",
   "execution_count": 9,
   "id": "18c79dc0",
   "metadata": {},
   "outputs": [
    {
     "name": "stdout",
     "output_type": "stream",
     "text": [
      "../linked_dir/kianabehesht17-podarcis-2022-03-02/run_pg_2145tree5952/boot_summary.tre\r\n"
     ]
    }
   ],
   "source": [
    "!ls ../linked_dir/kianabehesht17-podarcis-2022-03-02/run_pg_2145tree5952/"
   ]
  },
  {
   "cell_type": "code",
   "execution_count": 14,
   "id": "2d18890b",
   "metadata": {},
   "outputs": [
    {
     "name": "stdout",
     "output_type": "stream",
     "text": [
      "../linked_dir/kianabehesht17-podarcis-2022-02-16/outputs_pg_2145tree5952/labelled_pg_2145tree5952.tre\r\n"
     ]
    }
   ],
   "source": [
    "!ls ../linked_dir/kianabehesht17-podarcis-2022-02-16/outputs_pg_2145tree5952/labelled_pg_2145tree5952.tre"
   ]
  },
  {
   "cell_type": "code",
   "execution_count": null,
   "id": "7ccd7efc",
   "metadata": {},
   "outputs": [],
   "source": []
  }
 ],
 "metadata": {
  "kernelspec": {
   "display_name": "Python 3",
   "language": "python",
   "name": "python3"
  },
  "language_info": {
   "codemirror_mode": {
    "name": "ipython",
    "version": 3
   },
   "file_extension": ".py",
   "mimetype": "text/x-python",
   "name": "python",
   "nbconvert_exporter": "python",
   "pygments_lexer": "ipython3",
   "version": "3.6.13"
  }
 },
 "nbformat": 4,
 "nbformat_minor": 5
}
