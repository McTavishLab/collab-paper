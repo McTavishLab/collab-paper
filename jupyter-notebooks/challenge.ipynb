{
 "cells": [
  {
   "cell_type": "code",
   "execution_count": 1,
   "metadata": {},
   "outputs": [],
   "source": [
    "from Bio import Phylo"
   ]
  },
  {
   "cell_type": "code",
   "execution_count": 2,
   "metadata": {},
   "outputs": [],
   "source": [
    "# 1. read the output tree "
   ]
  },
  {
   "cell_type": "code",
   "execution_count": 15,
   "metadata": {},
   "outputs": [
    {
     "data": {
      "text/plain": [
       "Tree(rooted=False, weight=1.0)"
      ]
     },
     "execution_count": 15,
     "metadata": {},
     "output_type": "execute_result"
    }
   ],
   "source": [
    "Phylo.read(\"../linked_dir/kianabehesht17-podarcis-2022-02-16/outputs_pg_2145tree5952/labelled_pg_2145tree5952.tre\",\"newick\")"
   ]
  },
  {
   "cell_type": "code",
   "execution_count": 4,
   "metadata": {},
   "outputs": [
    {
     "name": "stdout",
     "output_type": "stream",
     "text": [
      "challenge.ipynb\r\n"
     ]
    }
   ],
   "source": [
    "!ls"
   ]
  },
  {
   "cell_type": "code",
   "execution_count": 5,
   "metadata": {},
   "outputs": [
    {
     "name": "stdout",
     "output_type": "stream",
     "text": [
      "/home/kbeheshtian/collab-paper/jupyter-notebooks\r\n"
     ]
    }
   ],
   "source": [
    "!pwd"
   ]
  },
  {
   "cell_type": "code",
   "execution_count": 9,
   "metadata": {},
   "outputs": [
    {
     "name": "stdout",
     "output_type": "stream",
     "text": [
      "../linked_dir/kianabehesht17-podarcis-2022-03-02/run_pg_2145tree5952/boot_summary.tre\r\n"
     ]
    }
   ],
   "source": [
    "!ls ../linked_dir/kianabehesht17-podarcis-2022-03-02/run_pg_2145tree5952/"
   ]
  },
  {
   "cell_type": "code",
   "execution_count": 14,
   "metadata": {},
   "outputs": [
    {
     "name": "stdout",
     "output_type": "stream",
     "text": [
      "../linked_dir/kianabehesht17-podarcis-2022-02-16/outputs_pg_2145tree5952/labelled_pg_2145tree5952.tre\r\n"
     ]
    }
   ],
   "source": [
    "!ls ../linked_dir/kianabehesht17-podarcis-2022-02-16/outputs_pg_2145tree5952/labelled_pg_2145tree5952.tre"
   ]
  },
  {
   "cell_type": "code",
   "execution_count": null,
   "metadata": {},
   "outputs": [],
   "source": [
    "# 2. plot the tree\n",
    "# Hint: use the print function from BioPython\n",
    "\n",
    "\n",
    "# 3. save the plot as pdf\n",
    "# Hints:\n",
    "# use the functions figure(), savefig() and show() from matplotlib.pyplot\n",
    "# and the function Phylo.draw() from BioPython\n",
    "\n",
    "\n",
    "\n"
   ]
  }
 ],
 "metadata": {
  "kernelspec": {
   "display_name": "Python 3",
   "language": "python",
   "name": "python3"
  },
  "language_info": {
   "codemirror_mode": {
    "name": "ipython",
    "version": 3
   },
   "file_extension": ".py",
   "mimetype": "text/x-python",
   "name": "python",
   "nbconvert_exporter": "python",
   "pygments_lexer": "ipython3",
   "version": "3.7.3"
  }
 },
 "nbformat": 4,
 "nbformat_minor": 5
}
